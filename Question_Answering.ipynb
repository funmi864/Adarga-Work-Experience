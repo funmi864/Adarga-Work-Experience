{
 "cells": [
  {
   "cell_type": "markdown",
   "metadata": {},
   "source": [
    "## SetUp\n",
    "Configure OpenAI for later use"
   ]
  },
  {
   "cell_type": "code",
   "execution_count": 18,
   "metadata": {},
   "outputs": [],
   "source": [
    "# Import the necessary module\n",
    "from dotenv import load_dotenv\n",
    "import os\n",
    "\n",
    "# Load environment variables from the .env file (if present)\n",
    "load_dotenv()\n",
    "\n",
    "# Access environment variables as if they came from the actual environment\n",
    "OPENAI_API_KEY = os.getenv('OPENAI_API_KEY')\n",
    "\n",
    "from openai import OpenAI\n",
    "client = OpenAI()"
   ]
  },
  {
   "cell_type": "markdown",
   "metadata": {},
   "source": [
    "Function that takes a question and returns an answer \n",
    "- Read the csv to get context\n",
    "- (Maybe filter the csv)\n",
    "- Give the context and the question to the LLM\n",
    "- Return the result"
   ]
  },
  {
   "cell_type": "code",
   "execution_count": 19,
   "metadata": {},
   "outputs": [],
   "source": [
    "import pandas as pd\n",
    "\n",
    "df = pd.read_csv('/Users/funmiadebiyi/Desktop/ds-funmi/results.csv')\n",
    "#print(df.head())\n",
    "#print(df)"
   ]
  },
  {
   "cell_type": "code",
   "execution_count": 20,
   "metadata": {},
   "outputs": [],
   "source": [
    "def CallOpenAI(document, user_question):\n",
    "    completion = client.chat.completions.create(\n",
    "    model=\"gpt-3.5-turbo\",\n",
    "    temperature=0,\n",
    "    messages=[\n",
    "        {\"role\": \"system\", \"content\": \"You are a helpful assistant.\"},\n",
    "        {\"role\": \"user\", \"content\": \"Here is the data from the CSV file about sports: \"+ document},\n",
    "        {\"role\": \"user\", \"content\": user_question}\n",
    "    ]\n",
    "    )\n",
    "\n",
    "    return completion.choices[0].message.content\n",
    "\n",
    "document = df.to_string()"
   ]
  },
  {
   "cell_type": "markdown",
   "metadata": {},
   "source": [
    "## Asking the Quetions"
   ]
  },
  {
   "cell_type": "code",
   "execution_count": 25,
   "metadata": {},
   "outputs": [
    {
     "name": "stdout",
     "output_type": "stream",
     "text": [
      "Hello! I can answer questions about the csv file! \n",
      "The author of the Andy Murray article is Jonathan Jurejko.\n",
      "The author of the Jude Bellingham article is Phil McNulty.\n"
     ]
    }
   ],
   "source": [
    "print(\"Hello! I can answer questions about the csv file! \")\n",
    "question = True\n",
    "while question is True:\n",
    "    user_question = input(\"Question: \")\n",
    "    response = CallOpenAI(document, user_question)\n",
    "    print(response)\n",
    "    another_question = input(\"Do you have another question?(y/n): \")\n",
    "    if another_question.lower() == 'y':\n",
    "        question = True\n",
    "    else:\n",
    "        question = False\n",
    "\n"
   ]
  }
 ],
 "metadata": {
  "kernelspec": {
   "display_name": "Python 3",
   "language": "python",
   "name": "python3"
  },
  "language_info": {
   "codemirror_mode": {
    "name": "ipython",
    "version": 3
   },
   "file_extension": ".py",
   "mimetype": "text/x-python",
   "name": "python",
   "nbconvert_exporter": "python",
   "pygments_lexer": "ipython3",
   "version": "3.11.9"
  }
 },
 "nbformat": 4,
 "nbformat_minor": 2
}
