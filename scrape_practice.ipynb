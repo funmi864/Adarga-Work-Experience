{
 "cells": [
  {
   "cell_type": "markdown",
   "metadata": {},
   "source": [
    "## Setup\n",
    "\n",
    "Configure OpenAI for later use.\n",
    "\n",
    "Imports the request library and imports BeautifulSoup\n",
    "\n",
    "Imports and initialises the OpenAI client\n",
    "\n",
    "Imports the csv module"
   ]
  },
  {
   "cell_type": "code",
   "execution_count": 1,
   "metadata": {},
   "outputs": [],
   "source": [
    "# Import the necessary module\n",
    "from dotenv import load_dotenv\n",
    "import os\n",
    "\n",
    "# Load environment variables from the .env file (if present)\n",
    "load_dotenv()\n",
    "\n",
    "# Access environment variables as if they came from the actual environment\n",
    "OPENAI_API_KEY = os.getenv('OPENAI_API_KEY')\n",
    "\n",
    "import requests\n",
    "from bs4 import BeautifulSoup\n",
    "\n",
    "from openai import OpenAI\n",
    "client = OpenAI()\n",
    "\n",
    "import csv"
   ]
  },
  {
   "cell_type": "markdown",
   "metadata": {},
   "source": [
    "## Dictionary and function\n",
    "Initialises empty dictionary named 'URLS_to_text'\n",
    "Function:\n",
    "- Fetches the content of the web page\n",
    "- Parses the fetched content\n",
    "- Stores the content in the 'URLS_to_text' dictionary"
   ]
  },
  {
   "cell_type": "code",
   "execution_count": 2,
   "metadata": {},
   "outputs": [],
   "source": [
    "URLS_to_text = {\n",
    "\n",
    "}\n",
    "\n",
    "def fetch_and_store_text(URL):\n",
    "    page = requests.get(URL)\n",
    "    soup = BeautifulSoup(page.content, \"html.parser\")\n",
    "    text = soup.get_text()\n",
    "    URLS_to_text[URL] = text\n",
    "    print(text)"
   ]
  },
  {
   "cell_type": "markdown",
   "metadata": {},
   "source": [
    "The function is called for each website "
   ]
  },
  {
   "cell_type": "code",
   "execution_count": 3,
   "metadata": {},
   "outputs": [
    {
     "name": "stdout",
     "output_type": "stream",
     "text": [
      "Andy Murray to miss Wimbledon 2024 men's singles but set to play in doubles - BBC SportBBC HomepageSkip to contentAccessibility HelpYour accountNotificationsHomeNewsSportWeatheriPlayerSoundsBitesizeMore menuMore menuSearch BBCHomeNewsSportWeatheriPlayerSoundsBitesizeCBBCCBeebiesFoodClose menuBBC SportMenuHomeFootballCricketFormula 1Rugby URugby LTennisGolfBoxingAthleticsMoreA-Z SportsAmerican FootballAthleticsBasketballBoxingCricketCyclingDartsDisability SportFootballFormula 1Gaelic GamesGolfGymnasticsHorse RacingMixed Martial ArtsMotorsportNetballOlympic SportsRugby LeagueRugby UnionSnookerSwimmingTennisWinter SportsFull Sports A-ZMore from SportEnglandScotlandWalesNorthern IrelandMy SportMatch of the DaySports Personality5 Live SportNews FeedsHelp & FAQsTennisScores & ScheduleCalendarVideoMurray out of Wimbledon singles but set to play doublesThis video can not be playedTo play this video you need to enable JavaScript in your browser.Media caption, Andy Murray: 'Disappointed' not to be playing Wimbledon singlesJonathan JurejkoBBC Sport journalist at WimbledonPublished2 July 2024CommentsAndy Murray has decided not to play in the Wimbledon singles, instead making his farewell to the All England Club in the doubles alongside older brother Jamie.Murray, who is planning to retire later this year, had surgery 10 days ago on a back issue.The 37-year-old, who won Wimbledon in 2013 and 2016, was due to play Tomas Machac of the Czech Republic on Centre Court on Tuesday.Former world number one Murray had a cyst close to his spinal cord removed because it was causing nerve pain in his right leg.Speaking a few hours after his withdrawal was announced, Murray said: \"I wanted to sleep on it, make sure I was happy with the decision and give myself the chance when I woke up to see if it felt much better.\"I ran around a bit at home this morning when I got up - it wasn't where I wanted it to be unfortunately.\"It's probably a few days too soon but I'm proud I worked extremely hard to give myself a chance to play. It's the right decision.\"Wimbledon organisers said they were \"sorry to hear\" Murray was not playing in the singles.\"We are so looking forward to seeing you compete in the doubles and celebrating all the memories you have given us,\" a statement added.The Murray brothers, who have never teamed up at the Championships, will play Australian pair Rinky Hijikata and John Peers later this week. The first round of the men's doubles is scheduled for Wednesday and Thursday, but Wimbledon chief executive Sally Bolton said the Murrays could even play on Friday.\"I think it is likely to be Thursday but depends on conditions. I'm not 100% sure,\" Andy Murray added. Listen: Sporting Giants podcast - Andy MurrayAttributionSoundsWatch: Andy Murray - Will to winAttributioniPlayerHow Murray's latest fitness issue unfoldedImage source, Getty ImagesImage caption, Andy Murray was aiming to make his 16th appearance in the Wimbledon singlesMurray has been giving himself as long as possible to be ready for what will be an emotional goodbye at the scene of some of his greatest triumphs, having also won Olympic gold on Centre Court at London 2012.The Scot's plans have been disrupted by the back issue which flared up earlier this summer and forced him to retire from his match at Queen's against Australia's Jordan Thompson on 19 June after only five games.But he has fought to be fit because he wants a bit of \"closure\" at the All England Club before stopping playing professionally.On Sunday, Murray said the area where he had the operation was not sore, but added he still did not have 100% feeling in his leg.He trained with former British number one Kyle Edmund for more than an hour on Monday, leading 6-3 2-0 in a practice match before they stopped.Afterwards, Murray said he would make a decision later that evening and announced on Tuesday morning - several hours before he was due to face Machac - that he would focus on the doubles.At lunchtime on Tuesday, Murray and his 38-year-old brother Jamie practised together for the first time at Wimbledon this year in a 90-minute session.The pair represented Great Britain in doubles at the London 2012 Olympic Games at the All England Club, when they lost in the first round.They also played together at Beijing 2008 and Rio 2016, while memorably teaming up in Britain's victorious 2015 Davis Cup campaign.Live scores, results and order of playGet tennis news sent straight to your phoneWhat next for Murray?This video can not be playedTo play this video you need to enable JavaScript in your browser.Media caption, Watch the winning moment from Murray's Wimbledon victoriesHaving initially feared he would have to retire in 2019 because of hip surgery, Murray returned to the tour later that year after having a metal cap inserted into the joint.But the injury issues have continued and the three-time major champion said earlier this year that he did not plan to \"play much past the summer\".Murray, who also won gold at the Rio 2016 Games, said last month that retiring at Wimbledon or the Olympics would be \"fitting\", given his success in both events.He still plans for this month's Paris Olympics to be his \"last tournament\" after being selected in the Great Britain team.The tennis event starts on 27 July on the clay courts at Roland Garros.Murray could play in the singles, as well as the doubles alongside Dan Evans, but the next few weeks will determine whether he is fit to play.\"I'll see how I feel, I don't know exactly how this will recover,\" he said.\"Most days it has been getting better but I still don't have the total feeling and normality back in my leg yet.\"I hope it continues to get better but there are no guarantees.\"'Knowing Murray, it may not be a quick goodbye - analysisRussell Fuller, BBC tennis correspondentThat sobering moment has finally arrived, and with it the realisation we will never see Andy Murray in a Centre Court Wimbledon singles match again.Murray said as recently as Sunday that it was probably more likely he would not be able to compete.He gave himself one more night to sleep on it, before listening to the rational voice in his head which had no doubt been telling him a competitive five set singles was impractical so soon after spinal surgery.A doubles farewell was not in his perfect script. But he will have his brother Jamie alongside him, his family in the stands, and BBC cameras creating what could be a national television moment.And as this is Andy Murray, it may not be a quick goodbye.\"Who says we are going to go out? I think we can win matches,\" Murray told BBC Sport at the weekend.Related TopicsTennisComments can not be loadedTo load Comments you need to enable JavaScript in your browserView commentsTop StoriesLive. Watch Wimbledon quarter-finals: Sinner leads Medvedev, Sun taken to deciding setLive. Euro 2024 semi-finals: Build-up to Spain v France plus England updatesFormation, Kane & impact subs - Southgate's semi-final dilemmasElsewhere on the BBCAn absorbing mystery in a beautiful Swedish settingHaunted by the past, grief therapist Vera believes her missing brother is still aliveAttributioniPlayerCan Miriam Margolyes convince Shaun to go to Tuscany?From medieval jousting to delicious food, Tuscany has everything Miriam Margolyes could needAttributionSoundsAccess all areas with racehorse trainer Andrew BaldingDiscover life at one of the world’s major stables in the run-up to Royal AscotAttributioniPlayerKate Waugh highlights the importance of grassroots clubsThe Gateshead triathlete credits them for her Olympic debut in ParisAttributionSoundsElsewhere in Sport'Goodbye to Jimmy and to part of ourselves'Djokovic: 'Do you have any questions other than the crowd?' VideoDjokovic: 'Do you have any questions other than the crowd?'Stokes hails ‘incredible’ Anderson before final Test. VideoStokes hails ‘incredible’ Anderson before final TestDjokovic expresses frustration to 'disrespectful' Rune supporters. VideoDjokovic expresses frustration to 'disrespectful' Rune supportersF1 Q&A after Silverstone: How close will drivers' championship be?Training in sandals & injuries - Spain's unlikely turning point'Here's to putting on a show!' - Gonzalez tops shots of day eight. Video'Here's to putting on a show!' - Gonzalez tops shots of day eightThe best Euros semi-finals of last 30 yearsIn defence of Foden - 'this is a tactical issue, not a player problem''An excuse to boo' - Djokovic irked by Wimbledon crowdMan Utd increase offer for Everton's Branthwaite'Audacious' Sinner tops shots of day seven. Video'Audacious' Sinner tops shots of day sevenQualifier Sun ends Raducanu's run at Wimbledon  VideoQualifier Sun ends Raducanu's run at Wimbledon England's best performances since 1996 - what's your favourite?Highlights: England beat Switzerland on penalties. VideoHighlights: England beat Switzerland on penaltiesWimbledon tribute - The best moments of Andy Murray. VideoWimbledon tribute - The best moments of Andy MurrayGlastonbury Festival 2024Relive global megastar SZA's debut setAttributioniPlayerEnjoy Dua Lipa's unmissable pop partyAttributioniPlayerSing along to Coldplay's iconic tracksAttributioniPlayerDance to Shania Twain's legendary hitsAttributioniPlayerHomeNewsSportWeatheriPlayerSoundsCBBCCBeebiesFoodBitesizeArtsTasterLocal NewsThreeTerms of UseAbout the BBCPrivacy PolicyCookiesAccessibility HelpParental GuidanceContact the BBCMake an editorial complaintGet Personalised NewslettersWhy you can trust the BBC© 2024 BBC. The BBC is not responsible for the content of external sites. Read about our approach to external linking.\n"
     ]
    }
   ],
   "source": [
    "#Tennis\n",
    "URL = \"https://www.bbc.co.uk/sport/tennis/articles/c1we7xjjvq8o\"\n",
    "fetch_and_store_text(URL)"
   ]
  },
  {
   "cell_type": "code",
   "execution_count": 4,
   "metadata": {},
   "outputs": [
    {
     "name": "stdout",
     "output_type": "stream",
     "text": [
      "Jude Bellingham: 'Iconic Euro 2024 goal will go down in England history' - BBC SportBBC HomepageSkip to contentAccessibility HelpYour accountNotificationsHomeNewsSportWeatheriPlayerSoundsBitesizeMore menuMore menuSearch BBCHomeNewsSportWeatheriPlayerSoundsBitesizeCBBCCBeebiesFoodClose menuBBC SportMenuHomeFootballCricketFormula 1Rugby URugby LTennisGolfBoxingAthleticsMoreA-Z SportsAmerican FootballAthleticsBasketballBoxingCricketCyclingDartsDisability SportFootballFormula 1Gaelic GamesGolfGymnasticsHorse RacingMixed Martial ArtsMotorsportNetballOlympic SportsRugby LeagueRugby UnionSnookerSwimmingTennisWinter SportsFull Sports A-ZMore from SportEnglandScotlandWalesNorthern IrelandMy SportMatch of the DaySports Personality5 Live SportNews FeedsHelp & FAQsEnglandMen's Scores & FixturesWomen's Scores & FixturesMen's TableWomen's Table'Bellingham goal will go down in England history'This video can not be playedTo play this video you need to enable JavaScript in your browser.Media caption, Bellingham goal: All the anglesPhil McNultyChief football writer at Arena AufSchalkePublished30 June 2024The clock timer inside the giant Arena AufSchalke had ticked around to 94 minutes 34 seconds when Jude Bellingham took to the air to produce an iconic moment that will take its place alongside the great England goals.England had only 86 seconds to spare themselves from the humiliation of a defeat against Slovakia that would sit uncomfortably in the chamber of sporting horrors alongside the loss to Iceland at Euro 2016.Failure to do so would surely have signalled the end of Gareth Southgate’s time as England manager - it may still come soon irrespective of their fate in Germany - and a wide-ranging inquest into everything surrounding a mystifying failure to show up at Euro 2024.And then came Bellingham.In a flash of genius that will be replayed and talked about for years, Bellingham took off in an audacious show of athleticism and individual skill to send a stunning overhead kick past Slovakia keeper Martin Dubravka.Think David Platt’s acrobatic hooked finish in the last seconds of extra time against Belgium at this same last-16 stage of Italia 90. Think Paul Gascoigne’s left-foot flick over Colin Hendry and volleyed right-foot finish against Scotland at Wembley in Euro 96. Think the 18-year-old Michael Owen's dazzling slalom run and finish into the roof of Argentina's net in the last 16 at the France 98 World Cup.Bellingham’s goal was at least the equal of those as he somehow found the agility to rise and get on the end of Marc Guehi’s headed flick after 90 gruelling minutes when he had again struggled to make his usual impact.He turned away, appearing to mouth “who else?” to the joyous England fans. Who else indeed?This video can not be playedTo play this video you need to enable JavaScript in your browser.Media caption, Jude Bellingham reacts to win against SlovakiaBellingham celebrated his 21st birthday on Saturday and now he had given his own belated gift to those suffering, disgruntled England supporters.England’s fans were betraying their feelings with silence in those closing moments, resigned to defeat while bracing themselves to dish out the toxic treatment that has become the soundtrack to their past two performances against Denmark and Slovenia.Southgate’s name was even booed before kick-off when it was announced. England’s players were roundly jeered at half-time - and they would have known something much worse was coming had Slovakia closed out the win.Instead, those same supporters can now say they were present to see one of the most dramatic goals and escapes in recent history, Bellingham’s goal England’s first shot on target and their latest strike in normal time at any major tournament.It may have been 94 minutes 34 seconds of torture and torpor before but it was worth every second of the wait and more besides.There was mayhem on the touchline among England’s substitutes and backroom team as Bellingham was swamped.Its impact on Slovakia was instant and profound as their broken players slumped to the turf in the face of this magic, perhaps knowing that the battle was lost, as indeed it was when Harry Kane scored England’s winner early in extra time.England were on the way out - and then they were on their way into a quarter-final meeting with Switzerland on Saturday in Dusseldorf.This video can not be playedTo play this video you need to enable JavaScript in your browser.Media caption, Highlights: England 2-1 SlovakiaHardened neutrals let out gasps of astonishment as Bellingham turned away, leaving team-mates in his wake before adopting his trademark arms-outstretched celebratory pose. These are the moments the great players provide and everyone who witnesses them remembers.Bellingham’s manager and team-mates formed an orderly queue to heap praise on him, their words a mixture of awe, delight and huge relief.He had pulled them clear of the precipice with one of the finest goals scored by anyone in an England shirt, not just because it was a testament to his technique and natural gifts but because it came when the stakes were so high and the pressure at its height.Kane put it in the top bracket when he said: “That was one of the best goals in our country’s history. What a player he is. He has kept our tournament alive. He works so hard for the team and in the big moments he steps up.”England saved by the BellinghamThis video can not be playedTo play this video you need to enable JavaScript in your browser.Media caption, Jude Bellingham: You hear people talk a lot of rubbishSouthgate told BBC Radio 5 Live: “With 15 minutes to go you wonder if he is out on his feet, but him and Harry Kane produce those moments and that is why you don’t make changes when people are clamouring for more changes.“I’ve said for a long time he is doing unbelievably well. I think I understand his world better than a lot of people. His world is incredibly different.\"He’s had an incredible impact even though he is only a young man. He will say things and react to things like a young man will, but can create moments that change big games and that’s what he has done here.”Declan Rice joined the chorus of praise, adding: “It was a big moment for a 21-year-old. It takes a lot of guts to do something like that. People don’t understand what you have to go through to get over the line.”Former England defender Gary Neville added on ITV: \"He is a special player and that goal has saved England from an incalculable amount of criticism that they have never seen before and he has saved his manager.\"England did not deserve the equaliser. They did not deserve to escape the embarrassment of the criticism that would have been heaped on them. Make no mistake, this was a shocking performance until Bellingham’s goal.And yet, when you have players like Bellingham who do the special things in the big moments, games are never over until they are over. This was the prime example of what the world class can do.The last word must go to the man of the moment Bellingham, as he admitted: “It’s got to be up there with my best goals – 30 seconds and we’re out of Euro 2024.\"It’s hard to deny it’s one of the most important moments in my career, but it’s only very important if we go on to win the tournament, so we’ll see in a couple of weeks.”England have somehow stumbled their way into the quarter-finals in spite of themselves. But, with a player and personality such as Bellingham, capable of pulling off what he did here in Gelsenkirchen, then what has looked impossible so far could still be possible.This video can not be playedTo play this video you need to enable JavaScript in your browser.Media caption, Southgate 'so proud' of England spiritRelated TopicsPhil McNultyUEFA Euro 2024FootballEngland Men's Football TeamTop StoriesLive. Watch Wimbledon quarter-finals: Sinner leads Medvedev, Sun taken to deciding setLive. Euro 2024 semi-finals: Build-up to Spain v France plus England updatesFormation, Kane & impact subs - Southgate's semi-final dilemmasElsewhere on the BBCAn absorbing mystery in a beautiful Swedish settingHaunted by the past, grief therapist Vera believes her missing brother is still aliveAttributioniPlayerCan Miriam Margolyes convince Shaun to go to Tuscany?From medieval jousting to delicious food, Tuscany has everything Miriam Margolyes could needAttributionSoundsAccess all areas with racehorse trainer Andrew BaldingDiscover life at one of the world’s major stables in the run-up to Royal AscotAttributioniPlayerKate Waugh highlights the importance of grassroots clubsThe Gateshead triathlete credits them for her Olympic debut in ParisAttributionSoundsElsewhere in Sport'Goodbye to Jimmy and to part of ourselves'Djokovic: 'Do you have any questions other than the crowd?' VideoDjokovic: 'Do you have any questions other than the crowd?'Stokes hails ‘incredible’ Anderson before final Test. VideoStokes hails ‘incredible’ Anderson before final TestDjokovic expresses frustration to 'disrespectful' Rune supporters. VideoDjokovic expresses frustration to 'disrespectful' Rune supportersF1 Q&A after Silverstone: How close will drivers' championship be?Training in sandals & injuries - Spain's unlikely turning point'Here's to putting on a show!' - Gonzalez tops shots of day eight. Video'Here's to putting on a show!' - Gonzalez tops shots of day eightThe best Euros semi-finals of last 30 yearsIn defence of Foden - 'this is a tactical issue, not a player problem''An excuse to boo' - Djokovic irked by Wimbledon crowdMan Utd increase offer for Everton's Branthwaite'Audacious' Sinner tops shots of day seven. Video'Audacious' Sinner tops shots of day sevenQualifier Sun ends Raducanu's run at Wimbledon  VideoQualifier Sun ends Raducanu's run at Wimbledon England's best performances since 1996 - what's your favourite?Highlights: England beat Switzerland on penalties. VideoHighlights: England beat Switzerland on penaltiesWimbledon tribute - The best moments of Andy Murray. VideoWimbledon tribute - The best moments of Andy MurrayGlastonbury Festival 2024Relive global megastar SZA's debut setAttributioniPlayerEnjoy Dua Lipa's unmissable pop partyAttributioniPlayerSing along to Coldplay's iconic tracksAttributioniPlayerDance to Shania Twain's legendary hitsAttributioniPlayerHomeNewsSportWeatheriPlayerSoundsCBBCCBeebiesFoodBitesizeArtsTasterLocal NewsThreeTerms of UseAbout the BBCPrivacy PolicyCookiesAccessibility HelpParental GuidanceContact the BBCMake an editorial complaintGet Personalised NewslettersWhy you can trust the BBC© 2024 BBC. The BBC is not responsible for the content of external sites. Read about our approach to external linking.\n"
     ]
    }
   ],
   "source": [
    "URL = \"https://www.bbc.co.uk/sport/football/articles/cg3ej1gd172o\"\n",
    "fetch_and_store_text(URL)"
   ]
  },
  {
   "cell_type": "code",
   "execution_count": 5,
   "metadata": {},
   "outputs": [
    {
     "name": "stdout",
     "output_type": "stream",
     "text": [
      "NBA Draft 2024: Who will be the next breakout star? - BBC SportBBC HomepageSkip to contentAccessibility HelpYour accountNotificationsHomeNewsSportWeatheriPlayerSoundsBitesizeMore menuMore menuSearch BBCHomeNewsSportWeatheriPlayerSoundsBitesizeCBBCCBeebiesFoodClose menuBBC SportMenuHomeFootballCricketFormula 1Rugby URugby LTennisGolfBoxingAthleticsMoreA-Z SportsAmerican FootballAthleticsBasketballBoxingCricketCyclingDartsDisability SportFootballFormula 1Gaelic GamesGolfGymnasticsHorse RacingMixed Martial ArtsMotorsportNetballOlympic SportsRugby LeagueRugby UnionSnookerSwimmingTennisWinter SportsFull Sports A-ZMore from SportEnglandScotlandWalesNorthern IrelandMy SportMatch of the DaySports Personality5 Live SportNews FeedsHelp & FAQsSport AfricaWho will be the breakout star of 2024 NBA Draft?Image source, Getty ImagesImage caption, Frenchmen Alexandre Sarr and Zacharie Risacher (centre left and right) could be top pick in the 2024 NBA Draft while Nikola Topic (left) and Ulrich Chomche (right) are ones to watchMark SedgwickBBC World ServicePublished25 June 2024The 2024 National Basketball Association (NBA) Draft contrasts sharply with last year’s selection, which introduced several players who became vital for their new teams.The draft process starts in New York on Wednesday with the first round of 30 picks and culminates on Thursday with the second 30.Leading the charge last year was Victor Wembanyama, the first overall pick, who earned a spot on the All-Defensive Team - a rare achievement for a rookie player.Wembanyama's performances with the San Antonio Spurs have validated his position at the top, seeing him named Rookie of the Year and marking him out as a future NBA superstar.However, the 2024 draft is seen as one of the weakest in years and general managers looking for talent will have to dig deep to find impactful players. We spotlight four sparkling prospects who could be the ones to watch in the draft.Will Bronny James join dad Lebron at Lakers? NBA draft previewPublished25 JuneUlrich Chomche (Centre)The youngest player in the draft is a Cameroonian, and the 18-year-old could make history by becoming the first player from the NBA Academy Africa to be directly drafted into the NBA.Chomche moved from his village of Bafang in western Cameroon to join the elite centre in Saly, Senegal, when he was just 13 - although he was only allowed to go after promising his parents that if his school marks slipped he would quit.Late to basketball, Chomche had only started playing the game shortly before being scouted. In Cameroon, football dominates, and many players switch to basketball in their teens when their height becomes an advantage.This was the case with Joel Embiid, a fellow Cameroonian and 2023 NBA Most Valuable Player (MVP), who has said he wished he could have been a professional footballer.At 6’10” tall (2.08m), Chomche showcased his defensive skills in the Basketball Africa League, averaging three blocks and one steal per game for Rwandan side REG last year.Image source, Getty ImagesImage caption, Born on 30 December 2005, Chomche is the youngest player in this year's draftUnlike Embiid, who was picked third back in 2014 and expected to become a star, Chomche is not rated as highly by NBA scouts.However, Pascal Siakam, another Cameroonian, provides a great template.Siakam was drafted 27th by the Toronto Raptors in 2016 and then spent some time in the G-League, the NBA’s development league, where players can compete and hone their skills to get NBA-ready.He led his G-League team to a title and won Finals MVP. Siakam then secured a spot in the Raptors’ rotation, winning Most Improved Player and an NBA title in 2019. Now 30, the power forward is a key player for the Indiana Pacers and a two-time All-Star.Chomche is expected to be a second-round pick, likely starting in the G-League to refine his skills. However, if he follows Siakam’s path, his career could be equally fascinating to watch.Zacharie Risacher (Forward)Image source, Getty ImagesImage caption, Risacher's former club in France have links to San Antonio SpursRisacher is one of two Frenchmen thought to be in the running for number one pick this year and basketball runs in his family, with his father Stephane a silver medal-winner with France at the Olympics in 2000.He is 19 but made his debut in Europe’s premier basketball competition, the EuroLeague, for French team ASVEL at the age of just 16 in 2021.The ASVEL president is Tony Parker, a former NBA point guard who won four championship rings with the San Antonio Spurs, and the Texan outfit has forged some long-running connections with France.Last year, the Spurs made Wenbanyama the first ever Frenchman to be drafted number one - and Risacher will be hoping to follow suit.Heading into this season he was already seen as a promising prospect, before transferring to another French team, JL Bourg. There, he has really worked on his shooting and scouts will be hoping to see this continue.Risacher could potentially become a player who fits seamlessly into an NBA offence, able to score from anywhere on the floor, without needing the ball in his hands too much.He is also a good perimeter defender. But despite his 6’8’’ (2.03m) height, his lack of athleticism means he is not considered a great finisher at the rim, nor is he a strong rebounder yet.However, he is still young, and there is a possibility that these skills could improve as he develops physically.Nikola Topic (Guard)Image source, Getty ImagesImage caption, Topic (right) is one the youngest players to feature in EuroLeagueTopic is also the son of an Olympic basketball silver medallist, with his father Milenko a runner-up at the 1996 Games when Yugoslavia were beaten by the USA.When you read his name a fellow Serbian comes to mind - three-time NBA MVP Nikola Jokic.They have both played for the same team in their home country, Mega, a team known for turning out NBA prospects.However, Topic has a very different style to Jokic. The 18-year-old guard is already an excellent passer and a tricky finisher at the rim, who has scored well over the past season for Crvena Zvezda.Topic was one of the youngest players to ever play in the EuroLeague when he made his debut in the competition at 16.In fact, he was only 5 days younger than Slovenian star Luka Doncic was when he debuted in the same competition for Real Madrid. Doncic has become one of the best players in the NBA, featuring for the Dallas Mavericks in this season's Finals.Rather like Doncic when he entered the NBA, there are some concerns about Topic’s ability to defend.His performances in Europe have been nowhere near as dominant as those of the Mavs forward, who was drafted third in 2018.Topic also suffered a knee injury in January, which he reaggravated in April, meaning some NBA teams may have concerns about drafting him in a high spot.Alexandre Sarr (Centre)Image source, Getty ImagesImage caption, Sarr's father Massar was a professional basketball player in SenegalSarr is another Frenchman who could well be the top pick in this draft.His father, Massar, was a professional player in Senegal and his brother Olivier already plays in the NBA with the Oklahoma City Thunder.At just 19 he already has an impressive basketball CV. He played for Real Madrid’s youth team before moving to the Overtime Elite League (OTE) in the US at the age of 16.The OTE was set up to give young players the opportunity to play professionally and develop their skills in preparation for the NBA. Ausar and Amen Thompson played in it before both being picked in the top five in the 2023 draft.Last year Sarr left OTE to sign for Australian side Perth Wildcats. He played off the bench for a team that finished second in the regular season and proved to be a good, impactful player.The centre averaged just 17 minutes per game, but managed to average 1.5 blocks in that time.He is an impressive defender. Standing at 6’11’ (2.10m) he is not only able to use his size to block shots, but also leverages his quickness to stay in front of smaller players.Versatility in defence is a crucial skill at the NBA level which should attract team managers.Related TopicsBasketballAfrica SportTop StoriesLive. Watch Wimbledon quarter-finals: Sinner leads Medvedev, Sun taken to deciding setLive. Euro 2024 semi-finals: Build-up to Spain v France plus England updatesFormation, Kane & impact subs - Southgate's semi-final dilemmasElsewhere on the BBCAn absorbing mystery in a beautiful Swedish settingHaunted by the past, grief therapist Vera believes her missing brother is still aliveAttributioniPlayerCan Miriam Margolyes convince Shaun to go to Tuscany?From medieval jousting to delicious food, Tuscany has everything Miriam Margolyes could needAttributionSoundsAccess all areas with racehorse trainer Andrew BaldingDiscover life at one of the world’s major stables in the run-up to Royal AscotAttributioniPlayerKate Waugh highlights the importance of grassroots clubsThe Gateshead triathlete credits them for her Olympic debut in ParisAttributionSoundsElsewhere in Sport'Goodbye to Jimmy and to part of ourselves'Djokovic: 'Do you have any questions other than the crowd?' VideoDjokovic: 'Do you have any questions other than the crowd?'Stokes hails ‘incredible’ Anderson before final Test. VideoStokes hails ‘incredible’ Anderson before final TestDjokovic expresses frustration to 'disrespectful' Rune supporters. VideoDjokovic expresses frustration to 'disrespectful' Rune supportersF1 Q&A after Silverstone: How close will drivers' championship be?Training in sandals & injuries - Spain's unlikely turning point'Here's to putting on a show!' - Gonzalez tops shots of day eight. Video'Here's to putting on a show!' - Gonzalez tops shots of day eightThe best Euros semi-finals of last 30 yearsIn defence of Foden - 'this is a tactical issue, not a player problem''An excuse to boo' - Djokovic irked by Wimbledon crowdMan Utd increase offer for Everton's Branthwaite'Audacious' Sinner tops shots of day seven. Video'Audacious' Sinner tops shots of day sevenQualifier Sun ends Raducanu's run at Wimbledon  VideoQualifier Sun ends Raducanu's run at Wimbledon England's best performances since 1996 - what's your favourite?Highlights: England beat Switzerland on penalties. VideoHighlights: England beat Switzerland on penaltiesWimbledon tribute - The best moments of Andy Murray. VideoWimbledon tribute - The best moments of Andy MurrayGlastonbury Festival 2024Relive global megastar SZA's debut setAttributioniPlayerEnjoy Dua Lipa's unmissable pop partyAttributioniPlayerSing along to Coldplay's iconic tracksAttributioniPlayerDance to Shania Twain's legendary hitsAttributioniPlayerHomeNewsSportWeatheriPlayerSoundsCBBCCBeebiesFoodBitesizeArtsTasterLocal NewsThreeTerms of UseAbout the BBCPrivacy PolicyCookiesAccessibility HelpParental GuidanceContact the BBCMake an editorial complaintGet Personalised NewslettersWhy you can trust the BBC© 2024 BBC. The BBC is not responsible for the content of external sites. Read about our approach to external linking.\n"
     ]
    }
   ],
   "source": [
    "URL = \"https://www.bbc.co.uk/sport/basketball/articles/cp00836dq0do\"\n",
    "fetch_and_store_text(URL)"
   ]
  },
  {
   "cell_type": "code",
   "execution_count": 6,
   "metadata": {},
   "outputs": [
    {
     "name": "stdout",
     "output_type": "stream",
     "text": [
      "British Grand Prix 2024: Max Verstappen and Lando Norris still 'great friends' after clash - BBC SportBBC HomepageSkip to contentAccessibility HelpYour accountNotificationsHomeNewsSportWeatheriPlayerSoundsBitesizeMore menuMore menuSearch BBCHomeNewsSportWeatheriPlayerSoundsBitesizeCBBCCBeebiesFoodClose menuBBC SportMenuHomeFootballCricketFormula 1Rugby URugby LTennisGolfBoxingAthleticsMoreA-Z SportsAmerican FootballAthleticsBasketballBoxingCricketCyclingDartsDisability SportFootballFormula 1Gaelic GamesGolfGymnasticsHorse RacingMixed Martial ArtsMotorsportNetballOlympic SportsRugby LeagueRugby UnionSnookerSwimmingTennisWinter SportsFull Sports A-ZMore from SportEnglandScotlandWalesNorthern IrelandMy SportMatch of the DaySports Personality5 Live SportNews FeedsHelp & FAQsFormula 1LatestResultsStandingsCalendarTeams & DriversVerstappen & Norris 'both happy to race' after clashImage source, Getty ImagesImage caption, Max Verstappen took victory at last year's British Grand Prix with Lando Norris finishing second and Lewis Hamilton in third placeAndrew BensonF1 Correspondent at SilverstonePublished4 July 2024Max Verstappen says he and Lando Norris \"agreed with 99% of everything\" when they discussed their Austrian Grand Prix clash this week.The pair, who collided while fighting for the lead at the Red Bull Ring on Sunday, resume battle at the British Grand Prix this weekend.Verstappen revealed he \"cared about maintaining his relationship\" with Norris because \"we are great friends\".During their talk this week, the world champion said he told the McLaren driver they could trust each other when racing closely.Verstappen added: \"We go at it flat out - that's what we agreed. That's what we like to do and that's what's good for F1 as well.\"Briton Norris said: \"It's clear how he races. It's tough, it's on the limit, it's what I love. I thoroughly enjoyed the fight I had with him.\"The more I've thought about it, the more I think it's just racing. It was good racing, very close to the edge at times. We've spoken about it and we are both happy to go racing again.\"Their battle ended when they touched while Norris was trying to overtake Verstappen around the outside and both suffered punctures, a collision for which the Dutchman was given a 10-second penalty.Verstappen recovered to finish fifth while the damage caused to Norris' McLaren forced the 24-year-old's retirement.Norris on 'nerve-wracking' battle with Verstappen and confidence in McLarenPublished5 days agoBritish teenager Bearman joins Haas for 2025Published5 days agoHow to follow British Grand Prix on the BBCPublished30 JuneVerstappen said: \"The only thing I cared about was maintaining my relationship with Lando because we are great friends and thats' why I said after the race we had to let things cool down because emotions run high.\"We spoke on Monday and we came to the conclusion that we actually really enjoyed our battle.\"We like to race hard. We have done this for many years not only in F1, like online racing where we had a lot of fun together, and these things have to carry on because that's what we like to do and it's great for F1.\"Verstappen added he had reassured Norris about his intentions when they are racing.\"I always said to Lando, 'When you go for moves up the inside or outside, you can trust me that I am not there to try and crash you out of the way'. Same the other way around because we spoke about that as well.\"'Lando is a great guy, a really nice person'Image source, Getty ImagesImage caption, Verstappen leads Norris in the drivers' championship by 81 points Norris had accused Verstappen of changing his line in the braking zone, which is forbidden in F1, and the Dutchman acknowledged indirectly that had been the case.\"Naturally, there is always a human reaction when someone dives down the inside or outside that you have a bit of a reaction to it,\" said Verstappen. \"But I felt everything I did was nothing massively over the top.\"Of course, like how you design a car, you try to go to the edge of the rules, maybe you find some grey areas here and there, and that's the same how you race because otherwise you will never be a top driver or succeed in life anyway.\"Norris, who trails Verstappen in the drivers' championship by 81 points, added: \"Max isn't going to want to crash and ruin his own chances. I don't think he's going to change too much, and I don't think I need to change much.\"There are things from both sides we probably wanted to do better. But avoiding an incident from moving under braking is probably the biggest thing.\"The stewards need to be aware that something can easily go wrong. You're defending and that's fine, but at some point that has a limit and it needs to be imposed.\"Asked if they could remain friends if their battles continued for a long time, Verstappen said: \"I think so. It also depends on your personalities. Lando is a great guy, a really nice person, who loves F1 and racing and is very passionate about it.\"You also have to realise that he is fighting for his second win, I am fighting for my 62nd, so your emotions are a little bit different. I know that from myself, when I was fighting for my first wins, that’s what I also said, 'Let's let it cool off'.\"Another issue to arise from Austria was that Norris earned a five-second penalty for going off track while trying to pass Verstappen, despite immediately giving the place back, because it was conflated with a warning he had previously been given for exceeding track limits.Norris himself and Williams driver Alex Albon both said that decision was \"silly\".Verstappen admitted it was \"a bit of an odd one\".He said Red Bull have an upgrade on their car this weekend, but that he expected the battle to be close on track with McLaren.Norris' team-mate Oscar Piastri said he expected Verstappen to be \"really tough to beat\" because of his car's strengths in the sort of high-speed corners that abound at Silverstone.This video can not be playedTo play this video you need to enable JavaScript in your browser.Media caption, Formula 1: McLaren’s Lando Norris explains what he loves about the British Grand PrixRelated TopicsFormula 1Top StoriesLive. Watch Wimbledon quarter-finals: Sinner leads Medvedev, Sun taken to deciding setLive. Euro 2024 semi-finals: Build-up to Spain v France plus England updatesFormation, Kane & impact subs - Southgate's semi-final dilemmasElsewhere on the BBCAn absorbing mystery in a beautiful Swedish settingHaunted by the past, grief therapist Vera believes her missing brother is still aliveAttributioniPlayerCan Miriam Margolyes convince Shaun to go to Tuscany?From medieval jousting to delicious food, Tuscany has everything Miriam Margolyes could needAttributionSoundsAccess all areas with racehorse trainer Andrew BaldingDiscover life at one of the world’s major stables in the run-up to Royal AscotAttributioniPlayerKate Waugh highlights the importance of grassroots clubsThe Gateshead triathlete credits them for her Olympic debut in ParisAttributionSoundsElsewhere in Sport'Goodbye to Jimmy and to part of ourselves'Djokovic: 'Do you have any questions other than the crowd?' VideoDjokovic: 'Do you have any questions other than the crowd?'Stokes hails ‘incredible’ Anderson before final Test. VideoStokes hails ‘incredible’ Anderson before final TestDjokovic expresses frustration to 'disrespectful' Rune supporters. VideoDjokovic expresses frustration to 'disrespectful' Rune supportersF1 Q&A after Silverstone: How close will drivers' championship be?Training in sandals & injuries - Spain's unlikely turning point'Here's to putting on a show!' - Gonzalez tops shots of day eight. Video'Here's to putting on a show!' - Gonzalez tops shots of day eightThe best Euros semi-finals of last 30 yearsIn defence of Foden - 'this is a tactical issue, not a player problem''An excuse to boo' - Djokovic irked by Wimbledon crowdMan Utd increase offer for Everton's Branthwaite'Audacious' Sinner tops shots of day seven. Video'Audacious' Sinner tops shots of day sevenQualifier Sun ends Raducanu's run at Wimbledon  VideoQualifier Sun ends Raducanu's run at Wimbledon England's best performances since 1996 - what's your favourite?Highlights: England beat Switzerland on penalties. VideoHighlights: England beat Switzerland on penaltiesWimbledon tribute - The best moments of Andy Murray. VideoWimbledon tribute - The best moments of Andy MurrayGlastonbury Festival 2024Relive global megastar SZA's debut setAttributioniPlayerEnjoy Dua Lipa's unmissable pop partyAttributioniPlayerSing along to Coldplay's iconic tracksAttributioniPlayerDance to Shania Twain's legendary hitsAttributioniPlayerHomeNewsSportWeatheriPlayerSoundsCBBCCBeebiesFoodBitesizeArtsTasterLocal NewsThreeTerms of UseAbout the BBCPrivacy PolicyCookiesAccessibility HelpParental GuidanceContact the BBCMake an editorial complaintGet Personalised NewslettersWhy you can trust the BBC© 2024 BBC. The BBC is not responsible for the content of external sites. Read about our approach to external linking.\n"
     ]
    }
   ],
   "source": [
    "URL = \"https://www.bbc.co.uk/sport/formula1/articles/ckmgrlr36gro\"\n",
    "fetch_and_store_text(URL)"
   ]
  },
  {
   "cell_type": "code",
   "execution_count": 263,
   "metadata": {},
   "outputs": [],
   "source": [
    "NoOfTimes = int(input(\"How many URLS are you inputiing\"))\n",
    "for i in range(NoOfTimes):\n",
    "    URL = input(\"Enter URL\")\n",
    "    fetch_and_store_text(URL)"
   ]
  },
  {
   "cell_type": "markdown",
   "metadata": {},
   "source": [
    "## CallOpenAI Function\n",
    "- Sends a chat completion request to the OpenAI API\n",
    "- The API processes the request and generates a response\n",
    "- The content of the generated response is returned "
   ]
  },
  {
   "cell_type": "code",
   "execution_count": 7,
   "metadata": {},
   "outputs": [],
   "source": [
    "def CallOpenAI(document, prompt):\n",
    "    completion = client.chat.completions.create(\n",
    "    model=\"gpt-3.5-turbo\",\n",
    "    temperature=0,\n",
    "    messages=[\n",
    "        {\"role\": \"system\", \"content\": \"You are a helpful assistant.\"},\n",
    "        {\"role\": \"user\", \"content\": \"Document text: \"+ document},\n",
    "        {\"role\": \"user\", \"content\": prompt}\n",
    "    ]\n",
    "    )\n",
    "\n",
    "    return completion.choices[0].message.content\n"
   ]
  },
  {
   "cell_type": "markdown",
   "metadata": {},
   "source": [
    "## Prompt Engineering\n",
    "\n",
    "Read the prompts from a text file "
   ]
  },
  {
   "cell_type": "code",
   "execution_count": 8,
   "metadata": {},
   "outputs": [],
   "source": [
    "def read_prompts():\n",
    "    path = \"/Users/funmiadebiyi/Desktop/ds-funmi/Prompts/prompts.txt\"\n",
    "    f = open(path, \"r\")\n",
    "    prompts = f.readlines()\n",
    "    return prompts"
   ]
  },
  {
   "cell_type": "markdown",
   "metadata": {},
   "source": [
    "## Clean Response Function\n",
    "- the function takes one parameter 'response'\n",
    "- replaces new lines with a comma and a space and replaces dashes with nothing"
   ]
  },
  {
   "cell_type": "code",
   "execution_count": 9,
   "metadata": {},
   "outputs": [],
   "source": [
    "def clean_response(response):\n",
    "    SplitResponse = response.split(\":\")\n",
    "    cleaned_response = SplitResponse[1].replace(\"\\n\", \", \").replace(\"- \", \"\")\n",
    "    return SplitResponse[0], cleaned_response"
   ]
  },
  {
   "cell_type": "markdown",
   "metadata": {},
   "source": [
    "## Write Row function\n",
    "- \"field_names' lists the column headers for the CSV files\n",
    "- the function takes two parameters 'Prompt_Answers' and 'csv_filename'"
   ]
  },
  {
   "cell_type": "code",
   "execution_count": 10,
   "metadata": {},
   "outputs": [],
   "source": [
    "field_names = [\"URL\", \"Title\", \"Publication Date\", \"Author\", \"Topic\", \"Entities\", \"Event\", \"Quotes\", \"Stats\", \"Tone\"]\n",
    "\n",
    "csv_filename = '/Users/funmiadebiyi/Desktop/ds-funmi/results.csv'\n",
    "def write_row(Prompt_Answers, csv_filename):\n",
    "    with open(csv_filename, 'a', newline='') as file:\n",
    "        writer = csv.DictWriter(file, fieldnames = field_names)\n",
    "        writer.writerow(Prompt_Answers)"
   ]
  },
  {
   "cell_type": "markdown",
   "metadata": {},
   "source": [
    "## CSV\n",
    "- Prompt_Answers is a dictionary where results from the OpenAI prompts will be stored\n",
    "- Iterates over 'URLS_to_text' dictionary\n",
    "- OpenAI called for each prompt\n",
    "- Results stored in 'Prompt_Answers'\n",
    "- Writes data to the CSV file"
   ]
  },
  {
   "cell_type": "code",
   "execution_count": 11,
   "metadata": {},
   "outputs": [],
   "source": [
    "prompts = read_prompts()\n",
    "\n",
    "Prompt_Answers = {\n",
    "\n",
    "}\n",
    "\n",
    "for URL,text in URLS_to_text.items():\n",
    "    Prompt_Answers [\"URL\"] = URL\n",
    "    for prompt in prompts: \n",
    "        Key_People = CallOpenAI(text, prompt)\n",
    "        cleaned_key, cleaned_value = clean_response(Key_People)\n",
    "        Prompt_Answers[cleaned_key] = cleaned_value\n",
    "\n",
    "    write_row(Prompt_Answers, csv_filename)\n"
   ]
  },
  {
   "cell_type": "code",
   "execution_count": 257,
   "metadata": {},
   "outputs": [
    {
     "name": "stdout",
     "output_type": "stream",
     "text": [
      "18\n",
      "18\n"
     ]
    }
   ],
   "source": [
    "def f(x: int):\n",
    "   def add_5():\n",
    "      return x + 5\n",
    "\n",
    "   return add_5() + 3\n",
    "\n",
    "print(f(10))\n",
    "#######################\n",
    "\n",
    "\n",
    "def add_5(y):\n",
    "   return  y + 5\n",
    "\n",
    "\n",
    "def f(x: int):\n",
    "    return add_5(x) + 3\n",
    "\n",
    "print(f(10))\n",
    "print(add_5(4))"
   ]
  },
  {
   "cell_type": "code",
   "execution_count": 260,
   "metadata": {},
   "outputs": [
    {
     "name": "stdout",
     "output_type": "stream",
     "text": [
      "[1, 3, 5]\n",
      "[1, 3, 5]\n"
     ]
    }
   ],
   "source": [
    "l = [1, 2, 3, 4, 5]\n",
    "odds = filter(lambda x: x  % 2 == 1, l)\n",
    "print(list(odds))\n",
    "\n",
    "def is_odd(x):\n",
    "    return x  % 2 == 1\n",
    "\n",
    "odds = filter(is_odd, l)\n",
    "print(list(odds))\n"
   ]
  }
 ],
 "metadata": {
  "kernelspec": {
   "display_name": "Python 3",
   "language": "python",
   "name": "python3"
  },
  "language_info": {
   "codemirror_mode": {
    "name": "ipython",
    "version": 3
   },
   "file_extension": ".py",
   "mimetype": "text/x-python",
   "name": "python",
   "nbconvert_exporter": "python",
   "pygments_lexer": "ipython3",
   "version": "3.11.9"
  }
 },
 "nbformat": 4,
 "nbformat_minor": 2
}
